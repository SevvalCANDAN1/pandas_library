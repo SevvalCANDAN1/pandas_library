{
 "cells": [
  {
   "cell_type": "markdown",
   "metadata": {},
   "source": [
    "Pandas Kütüphanesinde Seri Oluşturma İle İlgili Çalışmalar"
   ]
  },
  {
   "cell_type": "code",
   "execution_count": 112,
   "metadata": {},
   "outputs": [
    {
     "name": "stdout",
     "output_type": "stream",
     "text": [
      "0    1\n",
      "1    2\n",
      "2    3\n",
      "3    4\n",
      "4    5\n",
      "dtype: int64\n"
     ]
    }
   ],
   "source": [
    "from typing import List\n",
    "import pandas as pd # type: ignore\n",
    "import numpy as np\n",
    "\n",
    "# liste ile pandasta serilerin kullanımı\n",
    "data_for_list = [1, 2, 3, 4, 5]\n",
    "series_for_list = pd.Series(data_for_list)\n",
    "\n",
    "print(series_for_list)\n",
    "\n"
   ]
  },
  {
   "cell_type": "code",
   "execution_count": 113,
   "metadata": {},
   "outputs": [
    {
     "name": "stdout",
     "output_type": "stream",
     "text": [
      "a    1\n",
      "b    2\n",
      "c    3\n",
      "dtype: int64\n"
     ]
    }
   ],
   "source": [
    "#Sözlük ile pandasta serilerin kullanımı\n",
    "\n",
    "data_for_dictionary = {'a': 1, 'b': 2, 'c': 3}\n",
    "series_for_dictionary = pd.Series(data_for_dictionary)\n",
    "\n",
    "print(series_for_dictionary)"
   ]
  },
  {
   "cell_type": "code",
   "execution_count": 114,
   "metadata": {},
   "outputs": [
    {
     "name": "stdout",
     "output_type": "stream",
     "text": [
      "[1 2 3 4 5]\n"
     ]
    }
   ],
   "source": [
    "#Serinin değerlerini name.values kullanarak erişebiliriz\n",
    "print(series_for_list.values)\n",
    "#Aynı zamanda içindeki değerleri de ayrı ayrı kullanabiliriz."
   ]
  },
  {
   "cell_type": "code",
   "execution_count": 115,
   "metadata": {},
   "outputs": [
    {
     "name": "stdout",
     "output_type": "stream",
     "text": [
      "RangeIndex(start=0, stop=5, step=1)\n"
     ]
    }
   ],
   "source": [
    "#name.index serinin indexlerini verir.\n",
    "print(series_for_list.index)"
   ]
  },
  {
   "cell_type": "markdown",
   "metadata": {},
   "source": [
    "Yukarıdaki kodun çıktısında 0 indexinden başladığı ve 5 indexinde(5 dahil değil) bittiğini ve her sayı arasında bir fark olduğunu anlamalıyız."
   ]
  },
  {
   "cell_type": "code",
   "execution_count": 116,
   "metadata": {},
   "outputs": [
    {
     "name": "stdout",
     "output_type": "stream",
     "text": [
      "0    1\n",
      "1    2\n",
      "2    3\n",
      "dtype: int64\n"
     ]
    }
   ],
   "source": [
    "#head() fonksiyonu serinin ilk birkaç elemanını gösterir\n",
    "\n",
    "print(series_for_list.head(3))"
   ]
  },
  {
   "cell_type": "code",
   "execution_count": 117,
   "metadata": {},
   "outputs": [
    {
     "name": "stdout",
     "output_type": "stream",
     "text": [
      "2    3\n",
      "3    4\n",
      "4    5\n",
      "dtype: int64\n"
     ]
    }
   ],
   "source": [
    "#tail() fonksiyonu serinin sondan birkaç elemanını gösterir\n",
    "\n",
    "print(series_for_list.tail(3))"
   ]
  },
  {
   "cell_type": "markdown",
   "metadata": {},
   "source": [
    "DATA FRAME:\n",
    "\n",
    "->İki boyutlu etiketlenmiş veri yapısıdır.\n",
    "\n",
    "-> Hem satırlar hem de sutünlar indekslenmiştir.\n",
    "\n",
    "-> Satır ve sutünlar birbirinden bağımsız olarak işlenebilir."
   ]
  },
  {
   "cell_type": "markdown",
   "metadata": {},
   "source": [
    "Oluşturma:\n",
    "-> Data Frame çeşitli veri kaynaklarından oluşabilir.\n",
    "\n",
    "1) Sözlük ile:"
   ]
  },
  {
   "cell_type": "code",
   "execution_count": 118,
   "metadata": {},
   "outputs": [
    {
     "name": "stdout",
     "output_type": "stream",
     "text": [
      "      Name  Age         City\n",
      "0    Alice   25     New York\n",
      "1      Bob   30  Los Angeles\n",
      "2  Charlie   35      Chicago\n"
     ]
    }
   ],
   "source": [
    "data_frame_dict = {\n",
    "    \n",
    "    'Name': ['Alice', 'Bob', 'Charlie'],\n",
    "    'Age': [25, 30, 35],\n",
    "    'City': ['New York', 'Los Angeles', 'Chicago']\n",
    "}\n",
    "\n",
    "df_dict = pd.DataFrame(data_frame_dict)\n",
    "print(df_dict)"
   ]
  },
  {
   "cell_type": "markdown",
   "metadata": {},
   "source": [
    "2) Liste ile:"
   ]
  },
  {
   "cell_type": "code",
   "execution_count": 119,
   "metadata": {},
   "outputs": [
    {
     "name": "stdout",
     "output_type": "stream",
     "text": [
      "      Name  Age         City\n",
      "0    Alice   25     New York\n",
      "1      Bob   30  Los Angeles\n",
      "2  Charlie   35      Chicago\n"
     ]
    }
   ],
   "source": [
    "data_frame_list = [\n",
    "    \n",
    "    ['Alice', 25, 'New York'],\n",
    "    ['Bob', 30, 'Los Angeles'],\n",
    "    ['Charlie', 35, 'Chicago']\n",
    "]\n",
    "\n",
    "df_list = pd.DataFrame(data_frame_list, columns=['Name', 'Age', 'City'])\n",
    "\n",
    "print(df_list)"
   ]
  },
  {
   "cell_type": "markdown",
   "metadata": {},
   "source": [
    "3) NumPy dizisi ile:"
   ]
  },
  {
   "cell_type": "code",
   "execution_count": 120,
   "metadata": {},
   "outputs": [
    {
     "name": "stdout",
     "output_type": "stream",
     "text": [
      "      Name Age         City\n",
      "0    Alice  25     New York\n",
      "1      Bob  30  Los Angeles\n",
      "2  Charlie  35      Chicago\n"
     ]
    }
   ],
   "source": [
    "data_for_np = np.array([\n",
    "    ['Alice', 25, 'New York'],\n",
    "    ['Bob', 30, 'Los Angeles'],\n",
    "    ['Charlie', 35, 'Chicago']\n",
    "])\n",
    "\n",
    "df_np = pd.DataFrame(data_for_np, columns = ['Name', 'Age', 'City'])\n",
    "\n",
    "print(df_np)"
   ]
  },
  {
   "cell_type": "markdown",
   "metadata": {},
   "source": [
    "#Özellikler ve Methodlar"
   ]
  },
  {
   "cell_type": "code",
   "execution_count": 121,
   "metadata": {},
   "outputs": [
    {
     "name": "stdout",
     "output_type": "stream",
     "text": [
      "    Name  Age         City\n",
      "0  Alice   25     New York\n",
      "1    Bob   30  Los Angeles\n"
     ]
    }
   ],
   "source": [
    "#head() ilk birkaç satırın görüntüler\n",
    "print(df_dict.head(2))"
   ]
  },
  {
   "cell_type": "code",
   "execution_count": 122,
   "metadata": {},
   "outputs": [
    {
     "name": "stdout",
     "output_type": "stream",
     "text": [
      "      Name  Age         City\n",
      "1      Bob   30  Los Angeles\n",
      "2  Charlie   35      Chicago\n"
     ]
    }
   ],
   "source": [
    "#tail() son birkaç satırı görüntüler\n",
    "print(df_dict.tail(2))"
   ]
  },
  {
   "cell_type": "code",
   "execution_count": 123,
   "metadata": {},
   "outputs": [
    {
     "name": "stdout",
     "output_type": "stream",
     "text": [
      "<class 'pandas.core.frame.DataFrame'>\n",
      "RangeIndex: 3 entries, 0 to 2\n",
      "Data columns (total 3 columns):\n",
      " #   Column  Non-Null Count  Dtype \n",
      "---  ------  --------------  ----- \n",
      " 0   Name    3 non-null      object\n",
      " 1   Age     3 non-null      int64 \n",
      " 2   City    3 non-null      object\n",
      "dtypes: int64(1), object(2)\n",
      "memory usage: 200.0+ bytes\n",
      "None\n"
     ]
    }
   ],
   "source": [
    "#info() data frame alt yapısını görüntüler\n",
    "print(df_dict.info())"
   ]
  },
  {
   "cell_type": "code",
   "execution_count": 124,
   "metadata": {},
   "outputs": [
    {
     "name": "stdout",
     "output_type": "stream",
     "text": [
      "        Age\n",
      "count   3.0\n",
      "mean   30.0\n",
      "std     5.0\n",
      "min    25.0\n",
      "25%    27.5\n",
      "50%    30.0\n",
      "75%    32.5\n",
      "max    35.0\n"
     ]
    }
   ],
   "source": [
    "#describe() özet istatistikleri görüntüler.\n",
    "print(df_dict.describe())"
   ]
  },
  {
   "cell_type": "code",
   "execution_count": 125,
   "metadata": {},
   "outputs": [
    {
     "name": "stdout",
     "output_type": "stream",
     "text": [
      "Index(['Name', 'Age', 'City'], dtype='object')\n"
     ]
    }
   ],
   "source": [
    "#columns sutün adlarını görüntüler\n",
    "print(df_dict.columns)"
   ]
  },
  {
   "cell_type": "code",
   "execution_count": 126,
   "metadata": {},
   "outputs": [
    {
     "name": "stdout",
     "output_type": "stream",
     "text": [
      "RangeIndex(start=0, stop=3, step=1)\n"
     ]
    }
   ],
   "source": [
    "#index satır indekslerini görüntüler.\n",
    "print(df_dict.index)"
   ]
  },
  {
   "cell_type": "markdown",
   "metadata": {},
   "source": [
    "# Veri Seçimi ve Filtreleme"
   ]
  },
  {
   "cell_type": "code",
   "execution_count": 127,
   "metadata": {},
   "outputs": [
    {
     "name": "stdout",
     "output_type": "stream",
     "text": [
      "0    25\n",
      "1    30\n",
      "2    35\n",
      "Name: Age, dtype: int64\n"
     ]
    }
   ],
   "source": [
    "#Sutün seçimi\n",
    "age_dict = df_dict[\"Age\"]\n",
    "print(age_dict)"
   ]
  },
  {
   "cell_type": "code",
   "execution_count": 128,
   "metadata": {},
   "outputs": [
    {
     "name": "stdout",
     "output_type": "stream",
     "text": [
      "Name       Alice\n",
      "Age           25\n",
      "City    New York\n",
      "Name: 0, dtype: object\n",
      "Name       Alice\n",
      "Age           25\n",
      "City    New York\n",
      "Name: 0, dtype: object\n"
     ]
    }
   ],
   "source": [
    "#Satır seçimi\n",
    "#iloc() ile\n",
    "first_row_dict = df_dict.iloc[0]\n",
    "print(first_row_dict)\n",
    "\n",
    "second_row_dict = df_dict.loc[0]\n",
    "print(second_row_dict)"
   ]
  },
  {
   "cell_type": "markdown",
   "metadata": {},
   "source": [
    "# Koşullu Seçim"
   ]
  },
  {
   "cell_type": "code",
   "execution_count": 129,
   "metadata": {},
   "outputs": [
    {
     "name": "stdout",
     "output_type": "stream",
     "text": [
      "      Name  Age     City\n",
      "2  Charlie   35  Chicago\n"
     ]
    }
   ],
   "source": [
    "adults = df_dict[df_dict['Age'] > 30]\n",
    "print(adults)"
   ]
  },
  {
   "cell_type": "markdown",
   "metadata": {},
   "source": [
    "#Data Inspection:\n",
    "\n",
    "1) Data Frame'in ilk ve son satırlarını görüntüleme\n",
    "\n",
    "-> head(n) ile ilk n satırını görüntülenebilir. 'n = 5' varsayılan değeridir. "
   ]
  },
  {
   "cell_type": "code",
   "execution_count": 130,
   "metadata": {},
   "outputs": [
    {
     "name": "stdout",
     "output_type": "stream",
     "text": [
      "      Name  Age         City  Salary   Education\n",
      "0    Alice   25     New York   60000  Bachelor's\n",
      "1      Bob   30  Los Angeles   80000    Master's\n",
      "2  Charlie   35      Chicago   70000  Bachelor's\n",
      "3    David   28        Miami   75000         PhD\n",
      "4      Eve   32      Houston   90000    Master's\n",
      "      Name  Age           City  Salary   Education\n",
      "0    Alice   25       New York   60000  Bachelor's\n",
      "1      Bob   30    Los Angeles   80000    Master's\n",
      "2  Charlie   35        Chicago   70000  Bachelor's\n",
      "3    David   28          Miami   75000         PhD\n",
      "4      Eve   32        Houston   90000    Master's\n",
      "5    Frank   27        Seattle   65000  Bachelor's\n",
      "6    Grace   31         Boston   82000    Master's\n",
      "7   Hannah   29         Dallas   72000         PhD\n",
      "8    Isaac   34  San Francisco   85000         NaN\n",
      "9     Jack   26        Atlanta   68000    Master's\n"
     ]
    }
   ],
   "source": [
    "df = pd.read_csv('data.csv',sep='\\t')\n",
    "print(df.head())\n",
    "print(df.head(10))"
   ]
  },
  {
   "cell_type": "markdown",
   "metadata": {},
   "source": [
    "-> tail(n) data frame son n satırını görüntüler. 'n = 5' varsayılan değeridir."
   ]
  },
  {
   "cell_type": "code",
   "execution_count": 131,
   "metadata": {},
   "outputs": [
    {
     "name": "stdout",
     "output_type": "stream",
     "text": [
      "      Name  Age         City  Salary   Education\n",
      "15    Paul   29   Sacramento   71000  Bachelor's\n",
      "16   Quinn   35    Charlotte   86000    Master's\n",
      "17  Rachel   27  Minneapolis   74000  Bachelor's\n",
      "18  Samuel   33    St. Louis   79000    Master's\n",
      "19  Taylor   26   Pittsburgh   70000         PhD\n",
      "      Name  Age         City  Salary   Education\n",
      "10   Katie   33       Denver   78000  Bachelor's\n",
      "11    Liam   30       Austin   82000    Master's\n",
      "12     Mia   28     Portland   69000  Bachelor's\n",
      "13    Noah   32      Phoenix   77000    Master's\n",
      "14  Olivia   31    San Diego   80000         PhD\n",
      "15    Paul   29   Sacramento   71000  Bachelor's\n",
      "16   Quinn   35    Charlotte   86000    Master's\n",
      "17  Rachel   27  Minneapolis   74000  Bachelor's\n",
      "18  Samuel   33    St. Louis   79000    Master's\n",
      "19  Taylor   26   Pittsburgh   70000         PhD\n"
     ]
    }
   ],
   "source": [
    "print(df.tail())\n",
    "print(df.tail(10))"
   ]
  },
  {
   "cell_type": "markdown",
   "metadata": {},
   "source": [
    "2) Veri Yapısı ve Veri Tiplerini İnceleme"
   ]
  },
  {
   "cell_type": "code",
   "execution_count": 132,
   "metadata": {},
   "outputs": [
    {
     "name": "stdout",
     "output_type": "stream",
     "text": [
      "<class 'pandas.core.frame.DataFrame'>\n",
      "RangeIndex: 20 entries, 0 to 19\n",
      "Data columns (total 5 columns):\n",
      " #   Column     Non-Null Count  Dtype \n",
      "---  ------     --------------  ----- \n",
      " 0   Name       20 non-null     object\n",
      " 1   Age        20 non-null     int64 \n",
      " 2   City       20 non-null     object\n",
      " 3   Salary     20 non-null     int64 \n",
      " 4   Education  19 non-null     object\n",
      "dtypes: int64(2), object(3)\n",
      "memory usage: 928.0+ bytes\n",
      "None\n"
     ]
    }
   ],
   "source": [
    "#'info()' : Data Frame hakkında genel bilgi verir. Sutün adları, veri tipleri, \n",
    "# eksik değerlerin sayısı ve bellek kullanımı ile ilgili bilgiler içerir.\n",
    "print(df.info())"
   ]
  },
  {
   "cell_type": "code",
   "execution_count": 133,
   "metadata": {},
   "outputs": [
    {
     "name": "stdout",
     "output_type": "stream",
     "text": [
      "Name         object\n",
      "Age           int64\n",
      "City         object\n",
      "Salary        int64\n",
      "Education    object\n",
      "dtype: object\n"
     ]
    }
   ],
   "source": [
    "#'dtypes' : Data Frame'deki sütunların veri tiplerini görüntüler.\n",
    "print(df.dtypes)"
   ]
  },
  {
   "cell_type": "markdown",
   "metadata": {},
   "source": [
    "3) Özet İstatistikler:"
   ]
  },
  {
   "cell_type": "code",
   "execution_count": 134,
   "metadata": {},
   "outputs": [
    {
     "name": "stdout",
     "output_type": "stream",
     "text": [
      "             Age       Salary\n",
      "count  20.000000     20.00000\n",
      "mean   30.050000  75650.00000\n",
      "std     3.068945   7610.76108\n",
      "min    25.000000  60000.00000\n",
      "25%    27.750000  70000.00000\n",
      "50%    30.000000  76000.00000\n",
      "75%    32.250000  80500.00000\n",
      "max    35.000000  90000.00000\n"
     ]
    }
   ],
   "source": [
    "# 'describe()' : Sayısal sütunlar için özet istatistikleri (ortalama, standart sapma, min, max, çeyreklikler vb.) görüntüler.\n",
    "print(df.describe())"
   ]
  },
  {
   "cell_type": "code",
   "execution_count": 135,
   "metadata": {},
   "outputs": [
    {
     "name": "stdout",
     "output_type": "stream",
     "text": [
      "         Name        Age      City       Salary Education\n",
      "count      20  20.000000        20     20.00000        19\n",
      "unique     20        NaN        20          NaN         3\n",
      "top     Alice        NaN  New York          NaN  Master's\n",
      "freq        1        NaN         1          NaN         8\n",
      "mean      NaN  30.050000       NaN  75650.00000       NaN\n",
      "std       NaN   3.068945       NaN   7610.76108       NaN\n",
      "min       NaN  25.000000       NaN  60000.00000       NaN\n",
      "25%       NaN  27.750000       NaN  70000.00000       NaN\n",
      "50%       NaN  30.000000       NaN  76000.00000       NaN\n",
      "75%       NaN  32.250000       NaN  80500.00000       NaN\n",
      "max       NaN  35.000000       NaN  90000.00000       NaN\n"
     ]
    }
   ],
   "source": [
    "#'describe(include='all')' : Tüm sütunlar için özet istatistikleri gösterir.\n",
    "print(df.describe(include= 'all'))"
   ]
  },
  {
   "cell_type": "code",
   "execution_count": 136,
   "metadata": {},
   "outputs": [
    {
     "name": "stdout",
     "output_type": "stream",
     "text": [
      "count       20.00000\n",
      "mean     75650.00000\n",
      "std       7610.76108\n",
      "min      60000.00000\n",
      "25%      70000.00000\n",
      "50%      76000.00000\n",
      "75%      80500.00000\n",
      "max      90000.00000\n",
      "Name: Salary, dtype: float64\n"
     ]
    }
   ],
   "source": [
    "# Tek bir sayısal sutün için özet istatistikleri gösterme\n",
    "print(df['Salary'].describe())"
   ]
  },
  {
   "cell_type": "markdown",
   "metadata": {},
   "source": [
    "4) Eksik Verileri İnceleme"
   ]
  },
  {
   "cell_type": "code",
   "execution_count": 137,
   "metadata": {},
   "outputs": [
    {
     "name": "stdout",
     "output_type": "stream",
     "text": [
      "     Name    Age   City  Salary  Education\n",
      "0   False  False  False   False      False\n",
      "1   False  False  False   False      False\n",
      "2   False  False  False   False      False\n",
      "3   False  False  False   False      False\n",
      "4   False  False  False   False      False\n",
      "5   False  False  False   False      False\n",
      "6   False  False  False   False      False\n",
      "7   False  False  False   False      False\n",
      "8   False  False  False   False       True\n",
      "9   False  False  False   False      False\n",
      "10  False  False  False   False      False\n",
      "11  False  False  False   False      False\n",
      "12  False  False  False   False      False\n",
      "13  False  False  False   False      False\n",
      "14  False  False  False   False      False\n",
      "15  False  False  False   False      False\n",
      "16  False  False  False   False      False\n",
      "17  False  False  False   False      False\n",
      "18  False  False  False   False      False\n",
      "19  False  False  False   False      False\n",
      "      Name  Age           City  Salary   Education\n",
      "0    Alice   25       New York   60000  Bachelor's\n",
      "1      Bob   30    Los Angeles   80000    Master's\n",
      "2  Charlie   35        Chicago   70000  Bachelor's\n",
      "3    David   28          Miami   75000         PhD\n",
      "4      Eve   32        Houston   90000    Master's\n",
      "5    Frank   27        Seattle   65000  Bachelor's\n",
      "6    Grace   31         Boston   82000    Master's\n",
      "7   Hannah   29         Dallas   72000         PhD\n",
      "8    Isaac   34  San Francisco   85000         NaN\n"
     ]
    }
   ],
   "source": [
    "# 'isna()' : Data Frame'deki eksik değerleri True olarak işaretler.\n",
    "print(df.isna())\n",
    "print(df.head(9))\n",
    "\n"
   ]
  },
  {
   "cell_type": "code",
   "execution_count": 138,
   "metadata": {},
   "outputs": [
    {
     "name": "stdout",
     "output_type": "stream",
     "text": [
      "0     False\n",
      "1     False\n",
      "2     False\n",
      "3     False\n",
      "4     False\n",
      "5     False\n",
      "6     False\n",
      "7     False\n",
      "8      True\n",
      "9     False\n",
      "10    False\n",
      "11    False\n",
      "12    False\n",
      "13    False\n",
      "14    False\n",
      "15    False\n",
      "16    False\n",
      "17    False\n",
      "18    False\n",
      "19    False\n",
      "Name: Education, dtype: bool\n"
     ]
    }
   ],
   "source": [
    "#'isnull()' : isna() fonksiyonu ile aynıdır. Eksik değerleri True olarak işaretler.\n",
    "print(df['Education'].isnull())"
   ]
  },
  {
   "cell_type": "code",
   "execution_count": 139,
   "metadata": {},
   "outputs": [
    {
     "name": "stdout",
     "output_type": "stream",
     "text": [
      "Name         0\n",
      "Age          0\n",
      "City         0\n",
      "Salary       0\n",
      "Education    1\n",
      "dtype: int64\n"
     ]
    }
   ],
   "source": [
    "#'sum()' : Eksik değerlerin sayısını hesaplar. Hem isna() hem de isnull() ile birlikte kullanılabilir.\n",
    "print(df.isna().sum())"
   ]
  },
  {
   "cell_type": "markdown",
   "metadata": {},
   "source": [
    "5) Satır ve Sütun İşlemleri:"
   ]
  },
  {
   "cell_type": "code",
   "execution_count": 140,
   "metadata": {},
   "outputs": [
    {
     "name": "stdout",
     "output_type": "stream",
     "text": [
      "Index(['Name', 'Age', 'City', 'Salary', 'Education'], dtype='object')\n"
     ]
    }
   ],
   "source": [
    "#'columns' : Data Frame'in sütun adlarını gösterir.\n",
    "print(df.columns)"
   ]
  },
  {
   "cell_type": "code",
   "execution_count": 141,
   "metadata": {},
   "outputs": [
    {
     "name": "stdout",
     "output_type": "stream",
     "text": [
      "RangeIndex(start=0, stop=20, step=1)\n"
     ]
    }
   ],
   "source": [
    "#'index' : Data Frame'in satır indekslerini görüntüler.\n",
    "print(df.index)"
   ]
  },
  {
   "cell_type": "markdown",
   "metadata": {},
   "source": [
    "6) Benzersiz Değerler ve Değer Sayıları"
   ]
  },
  {
   "cell_type": "code",
   "execution_count": 142,
   "metadata": {},
   "outputs": [
    {
     "name": "stdout",
     "output_type": "stream",
     "text": [
      "[25 30 35 28 32 27 31 29 34 26 33]\n"
     ]
    }
   ],
   "source": [
    "#'unique()' : Bir sütundaki benzersiz değerleri listeler.\n",
    "print(df['Age'].unique())"
   ]
  },
  {
   "cell_type": "code",
   "execution_count": 143,
   "metadata": {},
   "outputs": [
    {
     "name": "stdout",
     "output_type": "stream",
     "text": [
      "20\n"
     ]
    }
   ],
   "source": [
    "#'nunique()' : Her sütundaki benzersiz değerlerin sayısını listeler.\n",
    "print(df['City'].nunique())"
   ]
  },
  {
   "cell_type": "code",
   "execution_count": 144,
   "metadata": {},
   "outputs": [
    {
     "name": "stdout",
     "output_type": "stream",
     "text": [
      "City\n",
      "New York         1\n",
      "Los Angeles      1\n",
      "St. Louis        1\n",
      "Minneapolis      1\n",
      "Charlotte        1\n",
      "Sacramento       1\n",
      "San Diego        1\n",
      "Phoenix          1\n",
      "Portland         1\n",
      "Austin           1\n",
      "Denver           1\n",
      "Atlanta          1\n",
      "San Francisco    1\n",
      "Dallas           1\n",
      "Boston           1\n",
      "Seattle          1\n",
      "Houston          1\n",
      "Miami            1\n",
      "Chicago          1\n",
      "Pittsburgh       1\n",
      "Name: count, dtype: int64\n"
     ]
    }
   ],
   "source": [
    "#'value_counts()' : Bir sütundaki benzersiz değerlerin frekansını sayar.\n",
    "print(df['City'].value_counts())"
   ]
  },
  {
   "cell_type": "markdown",
   "metadata": {},
   "source": [
    "7) Veri Örnekleme:"
   ]
  },
  {
   "cell_type": "code",
   "execution_count": 145,
   "metadata": {},
   "outputs": [
    {
     "name": "stdout",
     "output_type": "stream",
     "text": [
      "(20, 5)\n"
     ]
    }
   ],
   "source": [
    "#'shape' : Data Frame'in boyutlarını(satır ve sütun sayısını) görüntüler.\n",
    "print(df.shape)"
   ]
  },
  {
   "cell_type": "code",
   "execution_count": 146,
   "metadata": {},
   "outputs": [
    {
     "name": "stdout",
     "output_type": "stream",
     "text": [
      "100\n"
     ]
    }
   ],
   "source": [
    "#'size' : Data Frame'deki toplam eleman sayısını görüntüler.\n",
    "print(df.size)"
   ]
  },
  {
   "cell_type": "markdown",
   "metadata": {},
   "source": [
    "9) Veri Türlerini Dönüştürme:"
   ]
  },
  {
   "cell_type": "code",
   "execution_count": 147,
   "metadata": {},
   "outputs": [
    {
     "name": "stdout",
     "output_type": "stream",
     "text": [
      "float64\n"
     ]
    }
   ],
   "source": [
    "#'astype()' : Bir sütunun veri tipini dönüştürür.\n",
    "df['Age']  = df['Age'].astype('float')\n",
    "print(df['Age'].dtypes)"
   ]
  },
  {
   "cell_type": "code",
   "execution_count": 150,
   "metadata": {},
   "outputs": [
    {
     "name": "stdout",
     "output_type": "stream",
     "text": [
      "   student_id  age\n",
      "0           1   15\n",
      "1           2   11\n",
      "2           3   11\n",
      "3           4   20\n"
     ]
    }
   ],
   "source": [
    "def createDataFrame(student_data) -> pd.DataFrame:\n",
    "    df = pd.DataFrame(student_data, columns = ['student_id', 'age'])\n",
    "    return df\n",
    "input = [[1,15],[2,11],[3,11],[4,20]]\n",
    "print(createDataFrame(input))\n"
   ]
  }
 ],
 "metadata": {
  "kernelspec": {
   "display_name": "Python 3",
   "language": "python",
   "name": "python3"
  },
  "language_info": {
   "codemirror_mode": {
    "name": "ipython",
    "version": 3
   },
   "file_extension": ".py",
   "mimetype": "text/x-python",
   "name": "python",
   "nbconvert_exporter": "python",
   "pygments_lexer": "ipython3",
   "version": "3.10.11"
  }
 },
 "nbformat": 4,
 "nbformat_minor": 2
}
